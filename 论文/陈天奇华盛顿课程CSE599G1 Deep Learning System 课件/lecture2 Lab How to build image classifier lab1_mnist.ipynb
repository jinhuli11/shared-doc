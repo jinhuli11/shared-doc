{
  "nbformat": 4,
  "nbformat_minor": 0,
  "metadata": {
    "colab": {
      "name": "lab1-mnist.ipynb",
      "version": "0.3.2",
      "views": {},
      "default_view": {},
      "provenance": [],
      "collapsed_sections": []
    },
    "kernelspec": {
      "name": "python2",
      "display_name": "Python 2"
    },
    "accelerator": "GPU"
  },
  "cells": [
    {
      "metadata": {
        "id": "AAlDtDUt1QP5",
        "colab_type": "text"
      },
      "cell_type": "markdown",
      "source": [
        "# Handwritten Digit Recognition\n",
        "\n",
        "This tutorial guides you through implementing a classic computer vision application: identifying handwritten digits with neural networks. \n",
        "    \n",
        "## Learning points\n",
        "1. How to prepare image data for training?\n",
        "    * batching and color channels\n",
        "    * 2d or 4d tensors for raw image data\n",
        "2. How to use a high-level framework (MXNet/Gluon) to create a neural model?\n",
        "    * fully-connected and convolution layers\n",
        "    * stacking layers\n",
        "3. How to train the model?\n",
        "    * typical training loop\n",
        "    * model evaluation\n",
        "    \n",
        "## Note about neural nets architecture and MXNet API\n",
        "\n",
        "A good source to learn more about why we design neural nets the way we do, and the rationale behind various layers is \n",
        "[Stanford cs231n class](https://cs231n.github.io/).\n",
        "\n",
        "To learn more about MXNet Gluon API, check out\n",
        "[Deep Learning --- The Straight Dope](http://gluon.mxnet.io/index.html)\n",
        "\n",
        "## Prepare data\n",
        "\n",
        "We first download the [MNIST](http://yann.lecun.com/exdb/mnist/) dataset, a commonly used dataset for handwritten digit recognition.\n",
        "\n",
        "* Each image in this dataset has been center-cropped to 28x28 with grayscale pixel value [0, 255].\n",
        "* Each image has only a single color channel, rather than three channels as for RGB images.\n",
        "* There are two separate sets of files. The training set contains 60000 examples, and the test set 10000 examples.\n",
        "* Each example includes an image and a label.\n",
        "\n",
        "See more details about the dataset at http://yann.lecun.com/exdb/mnist/.\n",
        "\n",
        "### 2d and 4d tensors for raw images\n",
        "\n",
        "You are familiar with images being stored as a 2d matrix, (width, height). For an image with multiple color channels, you can use a 3d tensor (color_channel, width, height).\n",
        "\n",
        "If we have a bunch of images, we can use 4d tensors to represent them, by adding a new batch_size dimension,\n",
        "\n",
        "**(batch_size, color_channel, width, height)**\n",
        "\n",
        "For example, the grayscale digit image (28, 28) can be stored in memory as (1, 28, 28), and a batch of 100 images can be stored as a **(100, 1, 28, 28)** tensor. \n",
        "    \n",
        "This 4d tensor format for raw images would be later used as input to convolution layer.\n",
        "\n",
        "An alternative way to represent the raw images is to flatten all the dimensions except for the batch_size dimension.\n",
        "\n",
        "For example, (100, 1, 28, 28) can be flattened to (100, 784). This 2d tensor format is later used as input to fully-connected layer.\n",
        "\n",
        "Now, let's first download and load the images and the corresponding labels. Then, we will process the raw images to the appropriate formats."
      ]
    },
    {
      "metadata": {
        "id": "P0cch9SczvXb",
        "colab_type": "code",
        "colab": {
          "autoexec": {
            "startup": false,
            "wait_interval": 0
          },
          "output_extras": [
            {
              "item_id": 2
            }
          ],
          "base_uri": "https://localhost:8080/",
          "height": 71
        },
        "outputId": "631582d9-7797-47e4-cb9c-b1da74d33494",
        "executionInfo": {
          "status": "ok",
          "timestamp": 1522214706090,
          "user_tz": 420,
          "elapsed": 1272,
          "user": {
            "displayName": "Qiao Zhang",
            "photoUrl": "//lh4.googleusercontent.com/-SXndlxxq5jE/AAAAAAAAAAI/AAAAAAAAErc/EMDhiQCYheU/s50-c-k-no/photo.jpg",
            "userId": "111921404224074339099"
          }
        }
      },
      "cell_type": "code",
      "source": [
        "import numpy as np\n",
        "import os\n",
        "import urllib\n",
        "import gzip\n",
        "import struct\n",
        "\n",
        "def download_data(url, force_download=True):\n",
        "    \"\"\"Download data file to disk and returns filename.\"\"\"\n",
        "    fname = url.split(\"/\")[-1]\n",
        "    if force_download or not os.path.exists(fname):\n",
        "        urllib.urlretrieve(url, fname)\n",
        "    return fname\n",
        "\n",
        "def read_data(label_url, image_url):\n",
        "    \"\"\"Download and deserialize raw data to numpy ndarray. Return (label, image) tuple.\"\"\"\n",
        "    # the original files are gzip-compressed with a particular serialization format\n",
        "    with gzip.open(download_data(label_url)) as flbl:\n",
        "        magic, num = struct.unpack(\">II\", flbl.read(8))\n",
        "        label = np.fromstring(flbl.read(), dtype=np.int8)\n",
        "    with gzip.open(download_data(image_url), 'rb') as fimg:\n",
        "        magic, num, rows, cols = struct.unpack(\">IIII\", fimg.read(16))\n",
        "        image = np.fromstring(fimg.read(), dtype=np.uint8).reshape(len(label), rows, cols)\n",
        "    return (label, image)\n",
        "\n",
        "path='http://yann.lecun.com/exdb/mnist/'\n",
        "\n",
        "# label, image tuple\n",
        "(train_lbl, train_img) = read_data(\n",
        "    path + 'train-labels-idx1-ubyte.gz', path + 'train-images-idx3-ubyte.gz')\n",
        "(test_lbl, test_img) = read_data(\n",
        "    path + 't10k-labels-idx1-ubyte.gz', path + 't10k-images-idx3-ubyte.gz')\n",
        "\n",
        "# check raw data\n",
        "\n",
        "# type(train_lbl)\n",
        "# numpy.ndarray\n",
        "# https://docs.scipy.org/doc/numpy-1.13.0/reference/generated/numpy.ndarray.html\n",
        "\n",
        "# train_lbl.shape\n",
        "# (60000,)\n",
        "# train_lbl.dtype\n",
        "# dtype('int8')\n",
        "\n",
        "# train_img.shape\n",
        "# (60000, 28, 28)\n",
        "# train_img.dtype\n",
        "# dtype('uint8')"
      ],
      "execution_count": 1,
      "outputs": [
        {
          "output_type": "stream",
          "text": [
            "/usr/local/lib/python2.7/dist-packages/ipykernel_launcher.py:19: DeprecationWarning: The binary mode of fromstring is deprecated, as it behaves surprisingly on unicode inputs. Use frombuffer instead\n",
            "/usr/local/lib/python2.7/dist-packages/ipykernel_launcher.py:22: DeprecationWarning: The binary mode of fromstring is deprecated, as it behaves surprisingly on unicode inputs. Use frombuffer instead\n"
          ],
          "name": "stderr"
        }
      ]
    },
    {
      "metadata": {
        "id": "_tNBPhLJ1NVg",
        "colab_type": "text"
      },
      "cell_type": "markdown",
      "source": [
        "To get a sense for the raw digit images, we can plot the first 10 images. "
      ]
    },
    {
      "metadata": {
        "id": "oLtou7s-z8Qc",
        "colab_type": "code",
        "colab": {
          "autoexec": {
            "startup": false,
            "wait_interval": 0
          },
          "output_extras": [
            {
              "item_id": 1
            },
            {
              "item_id": 2
            }
          ],
          "base_uri": "https://localhost:8080/",
          "height": 97
        },
        "outputId": "7c11cc2c-9b3e-4693-96c1-cb95e03faf90",
        "executionInfo": {
          "status": "ok",
          "timestamp": 1522214709396,
          "user_tz": 420,
          "elapsed": 898,
          "user": {
            "displayName": "Qiao Zhang",
            "photoUrl": "//lh4.googleusercontent.com/-SXndlxxq5jE/AAAAAAAAAAI/AAAAAAAAErc/EMDhiQCYheU/s50-c-k-no/photo.jpg",
            "userId": "111921404224074339099"
          }
        }
      },
      "cell_type": "code",
      "source": [
        "%matplotlib inline\n",
        "import matplotlib.pyplot as plt\n",
        "\n",
        "num_inst = 10\n",
        "for i in range(num_inst):\n",
        "    plt.subplot(1,num_inst,i+1)\n",
        "    # train_img[i] has shape (28, 28)\n",
        "    plt.imshow(train_img[i], cmap='Greys_r')\n",
        "    plt.axis('off')\n",
        "plt.show()\n",
        "print('label: %s' % (train_lbl[0:num_inst],))"
      ],
      "execution_count": 2,
      "outputs": [
        {
          "output_type": "display_data",
          "data": {
            "image/png": "[encoded data removed]",
            "text/plain": [
              "<matplotlib.figure.Figure at 0x7f9471c70e50>"
            ]
          },
          "metadata": {
            "tags": []
          }
        },
        {
          "output_type": "stream",
          "text": [
            "label: [5 0 4 1 9 2 1 3 1 4]\n"
          ],
          "name": "stdout"
        }
      ]
    },
    {
      "metadata": {
        "id": "Bb8PIbh21oQI",
        "colab_type": "text"
      },
      "cell_type": "markdown",
      "source": [
        "### Data iterator to iterate raw data by mini-batches\n",
        "\n",
        "We can train neural network by looking at one image/label at a time, but when there is parallelism from the CPU/GPU hardware,it is far more efficient to look at batches of images at a time.\n",
        "\n",
        "To iterate images by batches, we can manually write a for loop and partition the data into chunks and look at one chunk at a time. A simpler way is to wrap the raw data using data iterators typically already provided from deep learning frameworks. \n",
        "\n",
        "Let's use mx.gluon.data.DataLoader and gluon.data.ArrayDataset to create our data iterators.\n",
        "\n",
        "Note that there's an option to shuffle the data rows, which is typically done for training data, but not validation/test data."
      ]
    },
    {
      "metadata": {
        "id": "Q3VLrgKqzSV_",
        "colab_type": "code",
        "colab": {
          "autoexec": {
            "startup": false,
            "wait_interval": 0
          },
          "output_extras": [
            {
              "item_id": 3
            }
          ],
          "base_uri": "https://localhost:8080/",
          "height": 88
        },
        "outputId": "7f73ff1c-96ec-4946-ed89-f69dbf106b85",
        "executionInfo": {
          "status": "ok",
          "timestamp": 1522214769021,
          "user_tz": 420,
          "elapsed": 48944,
          "user": {
            "displayName": "Qiao Zhang",
            "photoUrl": "//lh4.googleusercontent.com/-SXndlxxq5jE/AAAAAAAAAAI/AAAAAAAAErc/EMDhiQCYheU/s50-c-k-no/photo.jpg",
            "userId": "111921404224074339099"
          }
        }
      },
      "cell_type": "code",
      "source": [
        "!pip install -q mxnet-cu80"
      ],
      "execution_count": 4,
      "outputs": [
        {
          "output_type": "stream",
          "text": [
            "tcmalloc: large alloc 1466105856 bytes == 0x5609ed6dc000 @  0x7f734cd83107 0x5609911664ed 0x5609911e9ac0 0x56099120ed29 0x56099116d90e 0x560991232021 0x56099118477a 0x560991189462 0x560991181b3a 0x56099118982e 0x560991181b3a 0x56099119d809 0x5609911b656e 0x56099116d90e 0x5609911feb76 0x560991189650 0x560991189462 0x560991181b3a 0x56099118982e 0x560991181b3a 0x56099118982e 0x56099119cd68 0x560991184c3f 0x56099119cd68 0x560991184c3f 0x56099119cd68 0x560991184c3f 0x560991181b3a 0x560991189e1f 0x560991181b3a 0x560991189e1f\n",
            "tcmalloc: large alloc 1466105856 bytes == 0x560a44d0c000 @  0x7f734cd83107 0x5609911664ed 0x5609911e9ac0 0x5609911c840e 0x5609911f7577 0x56099116d90e 0x56099118dad0 0x560991106334 0x560991217be5 0x56099118477a 0x560991181b3a 0x56099118982e 0x560991181b3a 0x56099119d809 0x5609911b656e 0x56099116d90e 0x5609911feb76 0x560991189650 0x560991189462 0x560991181b3a 0x56099118982e 0x560991181b3a 0x56099118982e 0x56099119cd68 0x560991184c3f 0x56099119cd68 0x560991184c3f 0x56099119cd68 0x560991184c3f 0x560991181b3a 0x560991189e1f\n",
            "tcmalloc: large alloc 1466105856 bytes == 0x560a9c33c000 @  0x7f734cd83107 0x560991168062 0x5609911cf32e 0x5609911f759a 0x56099116d90e 0x56099118dad0 0x560991106334 0x560991217be5 0x56099118477a 0x560991181b3a 0x56099118982e 0x560991181b3a 0x56099119d809 0x5609911b656e 0x56099116d90e 0x5609911feb76 0x560991189650 0x560991189462 0x560991181b3a 0x56099118982e 0x560991181b3a 0x56099118982e 0x56099119cd68 0x560991184c3f 0x56099119cd68 0x560991184c3f 0x56099119cd68 0x560991184c3f 0x560991181b3a 0x560991189e1f 0x560991181b3a\n"
          ],
          "name": "stdout"
        }
      ]
    },
    {
      "metadata": {
        "id": "KkZqyeniEb2T",
        "colab_type": "text"
      },
      "cell_type": "markdown",
      "source": [
        "In Colab Runtime menu tab, select \"Change runtime type\" and select GPU for Hardware accelerator."
      ]
    },
    {
      "metadata": {
        "id": "n67FJo6CCII7",
        "colab_type": "code",
        "colab": {
          "autoexec": {
            "startup": false,
            "wait_interval": 0
          },
          "output_extras": [
            {
              "item_id": 3
            }
          ],
          "base_uri": "https://localhost:8080/",
          "height": 88
        },
        "outputId": "ad18c95f-5562-4662-badb-0cdfb9f32a7c",
        "executionInfo": {
          "status": "ok",
          "timestamp": 1522214215178,
          "user_tz": 420,
          "elapsed": 47954,
          "user": {
            "displayName": "Qiao Zhang",
            "photoUrl": "//lh4.googleusercontent.com/-SXndlxxq5jE/AAAAAAAAAAI/AAAAAAAAErc/EMDhiQCYheU/s50-c-k-no/photo.jpg",
            "userId": "111921404224074339099"
          }
        }
      },
      "cell_type": "code",
      "source": [
        "#!pip install -q mxnet-cu80==1.2.0b20180327"
      ],
      "execution_count": 2,
      "outputs": [
        {
          "output_type": "stream",
          "text": [
            "tcmalloc: large alloc 1534713856 bytes == 0x55b5c087c000 @  0x7f3334347107 0x55b558d174ed 0x55b558d9aac0 0x55b558dbfd29 0x55b558d1e90e 0x55b558de3021 0x55b558d3577a 0x55b558d3a462 0x55b558d32b3a 0x55b558d3a82e 0x55b558d32b3a 0x55b558d4e809 0x55b558d6756e 0x55b558d1e90e 0x55b558dafb76 0x55b558d3a650 0x55b558d3a462 0x55b558d32b3a 0x55b558d3a82e 0x55b558d32b3a 0x55b558d3a82e 0x55b558d4dd68 0x55b558d35c3f 0x55b558d4dd68 0x55b558d35c3f 0x55b558d4dd68 0x55b558d35c3f 0x55b558d32b3a 0x55b558d3ae1f 0x55b558d32b3a 0x55b558d3ae1f\n",
            "tcmalloc: large alloc 1534713856 bytes == 0x55b61c01a000 @  0x7f3334347107 0x55b558d174ed 0x55b558d9aac0 0x55b558d7940e 0x55b558da8577 0x55b558d1e90e 0x55b558d3ead0 0x55b558cb7334 0x55b558dc8be5 0x55b558d3577a 0x55b558d32b3a 0x55b558d3a82e 0x55b558d32b3a 0x55b558d4e809 0x55b558d6756e 0x55b558d1e90e 0x55b558dafb76 0x55b558d3a650 0x55b558d3a462 0x55b558d32b3a 0x55b558d3a82e 0x55b558d32b3a 0x55b558d3a82e 0x55b558d4dd68 0x55b558d35c3f 0x55b558d4dd68 0x55b558d35c3f 0x55b558d4dd68 0x55b558d35c3f 0x55b558d32b3a 0x55b558d3ae1f\n",
            "tcmalloc: large alloc 1534713856 bytes == 0x55b6777b8000 @  0x7f3334347107 0x55b558d19062 0x55b558d8032e 0x55b558da859a 0x55b558d1e90e 0x55b558d3ead0 0x55b558cb7334 0x55b558dc8be5 0x55b558d3577a 0x55b558d32b3a 0x55b558d3a82e 0x55b558d32b3a 0x55b558d4e809 0x55b558d6756e 0x55b558d1e90e 0x55b558dafb76 0x55b558d3a650 0x55b558d3a462 0x55b558d32b3a 0x55b558d3a82e 0x55b558d32b3a 0x55b558d3a82e 0x55b558d4dd68 0x55b558d35c3f 0x55b558d4dd68 0x55b558d35c3f 0x55b558d4dd68 0x55b558d35c3f 0x55b558d32b3a 0x55b558d3ae1f 0x55b558d32b3a\n"
          ],
          "name": "stdout"
        }
      ]
    },
    {
      "metadata": {
        "id": "y4046CtUz_oN",
        "colab_type": "code",
        "colab": {
          "autoexec": {
            "startup": false,
            "wait_interval": 0
          }
        }
      },
      "cell_type": "code",
      "source": [
        "import mxnet as mx\n",
        "from mxnet import nd, autograd, gluon\n",
        "mx.random.seed(1)\n",
        "\n",
        "def to4d(img):\n",
        "    \"\"\"Reshape img to 4d tensor and normalize pixel values to [0, 1].\"\"\"\n",
        "    return img.reshape(img.shape[0], 1, 28, 28).astype(np.float32)/255\n",
        "\n",
        "batch_size = 100\n",
        "train_iter = mx.gluon.data.DataLoader(gluon.data.ArrayDataset(to4d(train_img), train_lbl), batch_size, shuffle=True)\n",
        "test_iter = mx.gluon.data.DataLoader(gluon.data.ArrayDataset(to4d(test_img), test_lbl), batch_size)\n",
        "\n",
        "# DataLoader has a method\n",
        "# def __iter__(self):\n",
        "# to see how iterators work, try\n",
        "# for i, (data, label) in enumerate(train_iter):\n",
        "#     print i, data.shape, label.shape"
      ],
      "execution_count": 0,
      "outputs": []
    },
    {
      "metadata": {
        "id": "zoRf6H371vsf",
        "colab_type": "text"
      },
      "cell_type": "markdown",
      "source": [
        "## Multilayer Perceptron (MLP)\n",
        "\n",
        "Now, we are ready to create neural models.\n",
        "\n",
        "One simple model is called multilayer perceptron (MLP).\n",
        "MLP is made up of several fully-connected layers (or called dense layers) stacked one after another, followed by a softmax layer for label prediction.\n",
        "\n",
        "A fully-connected layer is an affine transformation taking input tensor *X* to output tensor *Y*, with two parameters, weight *W* and bias *b*.\n",
        "\n",
        "For the non-batched version, we have the following dimensions for each variable,\n",
        "\n",
        "\\begin{align}\n",
        "\\underset{1xk}{Y} &= \\underset{1xm}{x} \\underset{mxk}{W} + \\underset{1xk}{b}\n",
        "\\end{align}\n",
        "\n",
        "We usually work with batched version, and it has the following dimensions for each variable,\n",
        "\n",
        "\\begin{align}\n",
        "\\underset{nxk}{Y} &= \\underset{nxm}{X} \\underset{mxk}{W} + \\underset{nxk}{B}\n",
        "\\end{align}\n",
        "\n",
        "Note that the bias vector is usually specified as a vector 1xk, rather than a full tensor nxk, and relies on array broadcasting to get the right dimension.\n",
        "\n",
        "The output of a hidden layer is then passed through a non-linear activation layer, e.g., apply sigmoid, tanh or ReLU on output element-wise.\n",
        "\n",
        "The output of the activation layer can be fed as input to the next fully-connected layer. In this way, we can chain multiple full-connected layer.\n",
        "\n",
        "Note that if we do not use activation layer, multiple affine transformation is equivalent to a single affine transformation. Activation layer is necessary to add non-linearity.\n",
        "\n",
        "The last fully-connected layer often has the hidden size equals to the number of classes in the dataset. \n",
        "Then we add a softmax layer, which map the input into a probability score.\n",
        "Assume the input *X* has size *n x m*, the output *Y* would also have size *n x m*, where each row is a normalized probability vector,\n",
        "\n",
        "$$ \\left[\\frac{\\exp(x_{i1})}{\\sum_{j=1}^m \\exp(x_{ij})},\\ldots, \\frac{\\exp(x_{im})}{\\sum_{j=1}^m \\exp(x_{ij})}\\right] $$\n",
        "\n",
        "To evaluate how well the predictions are, we use cross-entropy loss,\n",
        "\n",
        "\\begin{align}\n",
        "L = \\frac{1}{N} \\sum y \\log{\\hat{y}}\n",
        "\\end{align}\n",
        "where *y* is the one-hot vector of true label, and $\\hat{y}$ is the estimated probability from softmax layer.\n",
        "\n",
        "Here's how we would create a multilayer perceptron in MXNet using Gluon frontend."
      ]
    },
    {
      "metadata": {
        "id": "ICKfWyh00BB-",
        "colab_type": "code",
        "colab": {
          "autoexec": {
            "startup": false,
            "wait_interval": 0
          },
          "output_extras": [
            {
              "item_id": 1
            }
          ],
          "base_uri": "https://localhost:8080/",
          "height": 102
        },
        "outputId": "6df617fb-226a-45fa-9289-e15209d1b266",
        "executionInfo": {
          "status": "ok",
          "timestamp": 1522214801219,
          "user_tz": 420,
          "elapsed": 330,
          "user": {
            "displayName": "Qiao Zhang",
            "photoUrl": "//lh4.googleusercontent.com/-SXndlxxq5jE/AAAAAAAAAAI/AAAAAAAAErc/EMDhiQCYheU/s50-c-k-no/photo.jpg",
            "userId": "111921404224074339099"
          }
        }
      },
      "cell_type": "code",
      "source": [
        "num_inputs = 784\n",
        "num_outputs = 10\n",
        "num_examples = 60000\n",
        "\n",
        "net = gluon.nn.Sequential()\n",
        "with net.name_scope():\n",
        "    net.add(gluon.nn.Dense(128, activation=\"relu\"))\n",
        "    net.add(gluon.nn.Dense(64, activation=\"relu\"))\n",
        "    net.add(gluon.nn.Dense(num_outputs))\n",
        "\n",
        "# at the end of the 3rd dense layer, there is no activation layer after it\n",
        "# you can use a softmax layer to make predictions or use a softmax_cross_entropy layer to evaluate loss function\n",
        "    \n",
        "softmax_cross_entropy = gluon.loss.SoftmaxCrossEntropyLoss()\n",
        "\n",
        "# visualize the network\n",
        "print(net)"
      ],
      "execution_count": 6,
      "outputs": [
        {
          "output_type": "stream",
          "text": [
            "Sequential(\n",
            "  (0): Dense(None -> 128, Activation(relu))\n",
            "  (1): Dense(None -> 64, Activation(relu))\n",
            "  (2): Dense(None -> 10, linear)\n",
            ")\n"
          ],
          "name": "stdout"
        }
      ]
    },
    {
      "metadata": {
        "id": "uPAEf0YI17te",
        "colab_type": "text"
      },
      "cell_type": "markdown",
      "source": [
        "### Initialize parameters\n",
        "\n",
        "There are many ways to initialize parameters. For different types of layers, we may need different initialization functions.\n",
        "\n",
        "Read more about initialization at http://cs231n.github.io/neural-networks-2/#init."
      ]
    },
    {
      "metadata": {
        "id": "Lt2p63Yu0Rtf",
        "colab_type": "code",
        "colab": {
          "autoexec": {
            "startup": false,
            "wait_interval": 0
          }
        }
      },
      "cell_type": "code",
      "source": [
        "model_ctx = mx.cpu()\n",
        "#model_ctx = mx.gpu()\n",
        "\n",
        "net.collect_params().initialize(mx.init.Normal(sigma=.1), ctx=model_ctx)"
      ],
      "execution_count": 0,
      "outputs": []
    },
    {
      "metadata": {
        "id": "vQ-T9Slu2DnR",
        "colab_type": "text"
      },
      "cell_type": "markdown",
      "source": [
        "### Evaluation metric\n",
        "We can evaluate training/validation set loss by running predictions and compute the average prediction accuracy.\n",
        "\n",
        "Note that we can extract the predicted label from probability vector with argmax."
      ]
    },
    {
      "metadata": {
        "id": "UKjwQQmT0S5v",
        "colab_type": "code",
        "colab": {
          "autoexec": {
            "startup": false,
            "wait_interval": 0
          }
        }
      },
      "cell_type": "code",
      "source": [
        "def evaluate_accuracy(data_iterator, net):\n",
        "    \"\"\"Make predictions for the dataset and evaluate average accuracy.\"\"\"\n",
        "    acc = mx.metric.Accuracy()\n",
        "    for i, (data, label) in enumerate(data_iterator):\n",
        "        # reshape to (batch_size, 784)\n",
        "        data = data.as_in_context(model_ctx).reshape((-1, 784))\n",
        "        label = label.as_in_context(model_ctx)\n",
        "        output = net(data)\n",
        "        # skipped a softmax layer since it doesn't change predictions\n",
        "        # use argmax to extract predicted label\n",
        "        predictions = nd.argmax(output, axis=1)\n",
        "        acc.update(preds=predictions, labels=label)\n",
        "    return acc.get()[1]"
      ],
      "execution_count": 0,
      "outputs": []
    },
    {
      "metadata": {
        "id": "oURJ-ArE2GOX",
        "colab_type": "text"
      },
      "cell_type": "markdown",
      "source": [
        "### Training Loop\n",
        "Now that both the network definition and data iterators are ready. We can start training. \n",
        "\n",
        "We make multiple complete passes over the training data.\n",
        "Each pass is called an epoch.\n",
        "In each epoch, we partition the training data to mini-batches.\n",
        "For each mini-batch, we compute a forward pass of the network to get the predicted output.\n",
        "Then, we do a backward pass, where we compute the loss function and the gradients of each model parameter.\n",
        "We then update each model parameter **w** with its gradient multipled by learning rate,\n",
        "\n",
        "\\begin{align}\n",
        "w = w - \\alpha \\nabla{w}\n",
        "\\end{align}"
      ]
    },
    {
      "metadata": {
        "id": "xqTbDHlM0UCP",
        "colab_type": "code",
        "colab": {
          "autoexec": {
            "startup": false,
            "wait_interval": 0
          },
          "output_extras": [
            {
              "item_id": 10
            }
          ],
          "base_uri": "https://localhost:8080/",
          "height": 187
        },
        "outputId": "a945e902-0a41-49f6-eba7-4dd09f3a0855",
        "executionInfo": {
          "status": "ok",
          "timestamp": 1522215082481,
          "user_tz": 420,
          "elapsed": 271729,
          "user": {
            "displayName": "Qiao Zhang",
            "photoUrl": "//lh4.googleusercontent.com/-SXndlxxq5jE/AAAAAAAAAAI/AAAAAAAAErc/EMDhiQCYheU/s50-c-k-no/photo.jpg",
            "userId": "111921404224074339099"
          }
        }
      },
      "cell_type": "code",
      "source": [
        "# get a optimizer doing SGD with fixed learning rate\n",
        "trainer = gluon.Trainer(net.collect_params(), 'sgd', {'learning_rate': .01})\n",
        "\n",
        "epochs = 10\n",
        "smoothing_constant = .01\n",
        "num_examples = 60000\n",
        "\n",
        "for e in range(epochs):\n",
        "    cumulative_loss = 0\n",
        "    for i, (data, label) in enumerate(train_iter):\n",
        "        # reshape to (batch_size, 784)\n",
        "        data = data.as_in_context(model_ctx).reshape((-1, 784))\n",
        "        label = label.as_in_context(model_ctx)\n",
        "        # this \"with\" record allows us to do automatic differentiation\n",
        "        # basically remembering how the output is compute from the input\n",
        "        # we can use chain rules to find out the gradients of loss function wrt inputs\n",
        "        with autograd.record():\n",
        "            output = net(data)\n",
        "            loss = softmax_cross_entropy(output, label)\n",
        "        # compute all gradients\n",
        "        loss.backward()\n",
        "        # Perform the weight update.\n",
        "        # Trainer needs to know the batch size of data to normalize the gradients by 1/batch_size.\n",
        "        trainer.step(data.shape[0])\n",
        "        cumulative_loss += nd.sum(loss).asscalar()\n",
        "\n",
        "    test_accuracy = evaluate_accuracy(test_iter, net)\n",
        "    train_accuracy = evaluate_accuracy(train_iter, net)\n",
        "    print(\"Epoch %s. Loss: %s, Train_acc %s, Test_acc %s\" %\n",
        "          (e, cumulative_loss/num_examples, train_accuracy, test_accuracy))"
      ],
      "execution_count": 9,
      "outputs": [
        {
          "output_type": "stream",
          "text": [
            "Epoch 0. Loss: 1.2764122775395712, Train_acc 0.832383333333, Test_acc 0.8366\n",
            "Epoch 1. Loss: 0.5145673182169597, Train_acc 0.875883333333, Test_acc 0.8818\n",
            "Epoch 2. Loss: 0.4038125705718994, Train_acc 0.893116666667, Test_acc 0.8986\n",
            "Epoch 3. Loss: 0.3559001183827718, Train_acc 0.903416666667, Test_acc 0.9085\n",
            "Epoch 4. Loss: 0.3259641148408254, Train_acc 0.910316666667, Test_acc 0.9138\n",
            "Epoch 5. Loss: 0.3035143837610881, Train_acc 0.916416666667, Test_acc 0.9215\n",
            "Epoch 6. Loss: 0.2855362625757853, Train_acc 0.920516666667, Test_acc 0.9257\n",
            "Epoch 7. Loss: 0.27033145672480263, Train_acc 0.924366666667, Test_acc 0.9292\n",
            "Epoch 8. Loss: 0.25723228368759155, Train_acc 0.928066666667, Test_acc 0.9297\n",
            "Epoch 9. Loss: 0.24560440004666648, Train_acc 0.929966666667, Test_acc 0.9336\n"
          ],
          "name": "stdout"
        }
      ]
    },
    {
      "metadata": {
        "id": "RHesfE542Kef",
        "colab_type": "text"
      },
      "cell_type": "markdown",
      "source": [
        "### Inference.\n",
        "\n",
        "After training is done, we can make prediction on test images. \n",
        "\n",
        "Let's try it for a single image."
      ]
    },
    {
      "metadata": {
        "id": "Z-xUJ6pk0VJP",
        "colab_type": "code",
        "colab": {
          "autoexec": {
            "startup": false,
            "wait_interval": 0
          },
          "output_extras": [
            {
              "item_id": 1
            },
            {
              "item_id": 2
            }
          ],
          "base_uri": "https://localhost:8080/",
          "height": 282
        },
        "outputId": "db84550a-0bc2-4343-da38-8c7930b066ba",
        "executionInfo": {
          "status": "ok",
          "timestamp": 1522211790879,
          "user_tz": 420,
          "elapsed": 408,
          "user": {
            "displayName": "Qiao Zhang",
            "photoUrl": "//lh4.googleusercontent.com/-SXndlxxq5jE/AAAAAAAAAAI/AAAAAAAAErc/EMDhiQCYheU/s50-c-k-no/photo.jpg",
            "userId": "111921404224074339099"
          }
        }
      },
      "cell_type": "code",
      "source": [
        "# show test image\n",
        "plt.imshow(test_img[0], cmap='Greys_r')\n",
        "plt.axis('off')\n",
        "plt.show()\n",
        "\n",
        "# make prediction\n",
        "output = net(nd.array(to4d(test_img[0:1]).reshape((-1, 784))))\n",
        "print \"Predicted digit is\", np.asscalar(nd.argmax(output, axis=1).asnumpy().astype(np.int8))"
      ],
      "execution_count": 26,
      "outputs": [
        {
          "output_type": "display_data",
          "data": {
            "image/png": "[encoded data removed]",
            "text/plain": [
              "<matplotlib.figure.Figure at 0x7f6fca08ec10>"
            ]
          },
          "metadata": {
            "tags": []
          }
        },
        {
          "output_type": "stream",
          "text": [
            "Predicted digit is 7\n"
          ],
          "name": "stdout"
        }
      ]
    },
    {
      "metadata": {
        "id": "K6JCNZlf2PVq",
        "colab_type": "text"
      },
      "cell_type": "markdown",
      "source": [
        "## Convolutional Neural Networks (ConvNets)\n",
        "\n",
        "ConvNets is a neural architecture that has a reduced model parameter size compared to MLP, and has been shown to achieve higher accuracy on many vision datasets.\n",
        "\n",
        "ConvNets introduces two additional layers, the convolution layer and max-pooling layers, on top of fully-connected layers.\n",
        "\n",
        "Note that the previous fully-connected layer simply flattens the image to a vector, with input dimension (batch_size, 784).\n",
        "It ignores the spatial locality information for pixels near each other.\n",
        "\n",
        "The newly introduced convolutional layer aims to leverage the spatial locality by doing a convolution operation on the input image. \n",
        "The convolution operation can be visualized as follows."
      ]
    },
    {
      "metadata": {
        "id": "i07pzdO32QsW",
        "colab_type": "text"
      },
      "cell_type": "markdown",
      "source": [
        "<img src=\"https://thatindiandude.github.io/images/conv.png\" style=\"height: 75%; width: 75%;\">"
      ]
    },
    {
      "metadata": {
        "id": "Vpu4T5NI2WV9",
        "colab_type": "text"
      },
      "cell_type": "markdown",
      "source": [
        "The convolution is specified by kernel width, kernel height, num_channel, stride and padding.\n",
        "Note that the num_channel has to be the same as the num_channel dimension of the input image.\n",
        "\n",
        "We can also have multiple feature maps, each with their own weight matrices, to capture different features: \n",
        "<img src=\"https://thatindiandude.github.io/images/filters.png\" style=\"height: 75%; width: 75%;\">"
      ]
    },
    {
      "metadata": {
        "id": "2MAyl0Sr2dH5",
        "colab_type": "text"
      },
      "cell_type": "markdown",
      "source": [
        "Besides the convolutional layer, another major innovation of ConvNets is the addition of pooling layers.\n",
        "A pooling layer reduce a $n\\times m$ (often called kernal size) image patch into a single value to make the network less sensitive to the spatial location.\n",
        "\n",
        "<img src=\"https://thatindiandude.github.io/images/pooling.png\" style=\"height: 75%; width: 75%;\">"
      ]
    },
    {
      "metadata": {
        "id": "GWF1LTcL0rWD",
        "colab_type": "code",
        "colab": {
          "autoexec": {
            "startup": false,
            "wait_interval": 0
          },
          "output_extras": [
            {
              "item_id": 1
            }
          ],
          "base_uri": "https://localhost:8080/",
          "height": 170
        },
        "outputId": "45c85003-2e8f-4c31-e516-747ee230ed95",
        "executionInfo": {
          "status": "ok",
          "timestamp": 1522214039009,
          "user_tz": 420,
          "elapsed": 320,
          "user": {
            "displayName": "Qiao Zhang",
            "photoUrl": "//lh4.googleusercontent.com/-SXndlxxq5jE/AAAAAAAAAAI/AAAAAAAAErc/EMDhiQCYheU/s50-c-k-no/photo.jpg",
            "userId": "111921404224074339099"
          }
        }
      },
      "cell_type": "code",
      "source": [
        "num_fc = 512\n",
        "num_outputs = 10\n",
        "net = gluon.nn.Sequential()\n",
        "with net.name_scope():\n",
        "    net.add(gluon.nn.Conv2D(channels=20, kernel_size=5, activation='relu'))\n",
        "    net.add(gluon.nn.MaxPool2D(pool_size=2, strides=2))\n",
        "    net.add(gluon.nn.Conv2D(channels=50, kernel_size=5, activation='relu'))\n",
        "    net.add(gluon.nn.MaxPool2D(pool_size=2, strides=2))\n",
        "    # The Flatten layer collapses all axis, except the first one, into one axis.\n",
        "    net.add(gluon.nn.Flatten())\n",
        "    net.add(gluon.nn.Dense(num_fc, activation=\"relu\"))\n",
        "    net.add(gluon.nn.Dense(num_outputs))\n",
        "\n",
        "softmax_cross_entropy = gluon.loss.SoftmaxCrossEntropyLoss()\n",
        "    \n",
        "print(net)"
      ],
      "execution_count": 21,
      "outputs": [
        {
          "output_type": "stream",
          "text": [
            "Sequential(\n",
            "  (0): Conv2D(None -> 20, kernel_size=(5, 5), stride=(1, 1))\n",
            "  (1): MaxPool2D(size=(2, 2), stride=(2, 2), padding=(0, 0), ceil_mode=False)\n",
            "  (2): Conv2D(None -> 50, kernel_size=(5, 5), stride=(1, 1))\n",
            "  (3): MaxPool2D(size=(2, 2), stride=(2, 2), padding=(0, 0), ceil_mode=False)\n",
            "  (4): Flatten\n",
            "  (5): Dense(None -> 512, Activation(relu))\n",
            "  (6): Dense(None -> 10, linear)\n",
            ")\n"
          ],
          "name": "stdout"
        }
      ]
    },
    {
      "metadata": {
        "id": "wSPOTzF12hHp",
        "colab_type": "text"
      },
      "cell_type": "markdown",
      "source": [
        "Note that LeNet is more complex than the previous multilayer perceptron, so we use GPU instead of CPU for training. "
      ]
    },
    {
      "metadata": {
        "id": "BypKXLkz6GoL",
        "colab_type": "code",
        "colab": {
          "autoexec": {
            "startup": false,
            "wait_interval": 0
          }
        }
      },
      "cell_type": "code",
      "source": [
        "model_ctx = mx.gpu()"
      ],
      "execution_count": 0,
      "outputs": []
    },
    {
      "metadata": {
        "id": "GXnkcxVz5kuX",
        "colab_type": "text"
      },
      "cell_type": "markdown",
      "source": [
        "Don't forget to initialize the model again. This time is a different initialization technique."
      ]
    },
    {
      "metadata": {
        "id": "zZe_P8tJ5q9F",
        "colab_type": "code",
        "colab": {
          "autoexec": {
            "startup": false,
            "wait_interval": 0
          }
        }
      },
      "cell_type": "code",
      "source": [
        "net.collect_params().initialize(mx.init.Xavier(magnitude=2.24), ctx=model_ctx)"
      ],
      "execution_count": 0,
      "outputs": []
    },
    {
      "metadata": {
        "id": "ftDIurs29i9L",
        "colab_type": "text"
      },
      "cell_type": "markdown",
      "source": [
        "The usual training loop. Note that the raw image data is now fed as a 4d tensor to conv layer."
      ]
    },
    {
      "metadata": {
        "id": "mDws-lZ_0sop",
        "colab_type": "code",
        "colab": {
          "autoexec": {
            "startup": false,
            "wait_interval": 0
          },
          "output_extras": [
            {
              "item_id": 10
            }
          ],
          "base_uri": "https://localhost:8080/",
          "height": 187
        },
        "outputId": "2cb7c03d-d408-42cc-bd57-6c33898c8364",
        "executionInfo": {
          "status": "ok",
          "timestamp": 1522213960410,
          "user_tz": 420,
          "elapsed": 692030,
          "user": {
            "displayName": "Qiao Zhang",
            "photoUrl": "//lh4.googleusercontent.com/-SXndlxxq5jE/AAAAAAAAAAI/AAAAAAAAErc/EMDhiQCYheU/s50-c-k-no/photo.jpg",
            "userId": "111921404224074339099"
          }
        }
      },
      "cell_type": "code",
      "source": [
        "def evaluate_accuracy(data_iterator, net):\n",
        "    \"\"\"Make predictions for the dataset and evaluate average accuracy.\"\"\"\n",
        "    acc = mx.metric.Accuracy()\n",
        "    for i, (data, label) in enumerate(data_iterator):\n",
        "        # ==== note the difference in raw data input shape ====\n",
        "        # use 4d tensor (batch_size, 1, 28, 28)\n",
        "        data = data.as_in_context(model_ctx)\n",
        "        label = label.as_in_context(model_ctx)\n",
        "        output = net(data)\n",
        "        predictions = nd.argmax(output, axis=1)\n",
        "        acc.update(preds=predictions, labels=label)\n",
        "    return acc.get()[1]\n",
        "\n",
        "trainer = gluon.Trainer(net.collect_params(), 'sgd', {'learning_rate': .01})\n",
        "\n",
        "epochs = 10\n",
        "smoothing_constant = .01\n",
        "num_examples = 60000\n",
        "\n",
        "for e in range(epochs):\n",
        "    cumulative_loss = 0\n",
        "    for i, (data, label) in enumerate(train_iter):\n",
        "        # ==== note the difference in raw data input shape ====\n",
        "        # use 4d tensor (batch_size, 1, 28, 28)\n",
        "        data = data.as_in_context(model_ctx)\n",
        "        label = label.as_in_context(model_ctx)\n",
        "        with autograd.record():\n",
        "            output = net(data)\n",
        "            loss = softmax_cross_entropy(output, label)\n",
        "        loss.backward()\n",
        "        trainer.step(data.shape[0])\n",
        "        cumulative_loss += nd.sum(loss).asscalar()\n",
        "\n",
        "    test_accuracy = evaluate_accuracy(test_iter, net)\n",
        "    train_accuracy = evaluate_accuracy(train_iter, net)\n",
        "    print(\"Epoch %s. Loss: %s, Train_acc %s, Test_acc %s\" %\n",
        "          (e, cumulative_loss/num_examples, train_accuracy, test_accuracy))"
      ],
      "execution_count": 18,
      "outputs": [
        {
          "output_type": "stream",
          "text": [
            "Epoch 0. Loss: 0.138673782738, Train_acc 0.964716666667, Test_acc 0.9682\n",
            "Epoch 1. Loss: 0.114428174969, Train_acc 0.963933333333, Test_acc 0.9647\n",
            "Epoch 2. Loss: 0.0986826447169, Train_acc 0.972416666667, Test_acc 0.9743\n",
            "Epoch 3. Loss: 0.087194854639, Train_acc 0.9768, Test_acc 0.9779\n",
            "Epoch 4. Loss: 0.0789550118347, Train_acc 0.979183333333, Test_acc 0.9821\n",
            "Epoch 5. Loss: 0.0726365983566, Train_acc 0.97985, Test_acc 0.9807\n",
            "Epoch 6. Loss: 0.0662884651919, Train_acc 0.982533333333, Test_acc 0.9827\n",
            "Epoch 7. Loss: 0.0616251299063, Train_acc 0.983433333333, Test_acc 0.9838\n",
            "Epoch 8. Loss: 0.0580998820161, Train_acc 0.984566666667, Test_acc 0.9837\n",
            "Epoch 9. Loss: 0.0536753960614, Train_acc 0.984733333333, Test_acc 0.9844\n"
          ],
          "name": "stdout"
        }
      ]
    },
    {
      "metadata": {
        "id": "ekTAkGy0FrCb",
        "colab_type": "text"
      },
      "cell_type": "markdown",
      "source": [
        "You should see that ConvNets achieve a higher accuracy than MLP."
      ]
    },
    {
      "metadata": {
        "id": "6QcNrzAQ9uMw",
        "colab_type": "code",
        "colab": {
          "autoexec": {
            "startup": false,
            "wait_interval": 0
          }
        }
      },
      "cell_type": "code",
      "source": [
        ""
      ],
      "execution_count": 0,
      "outputs": []
    }
  ]
}